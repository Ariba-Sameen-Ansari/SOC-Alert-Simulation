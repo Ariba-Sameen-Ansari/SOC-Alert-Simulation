{
 "cells": [
  {
   "cell_type": "code",
   "execution_count": 1,
   "id": "75bbb00c",
   "metadata": {},
   "outputs": [],
   "source": [
    "import random\n",
    "import datetime\n",
    "\n",
    "# Simulated alert sources\n",
    "alert_sources = ['Firewall', 'IDS', 'Antivirus', 'SIEM', 'Web Proxy']\n",
    "\n",
    "# Simulated alert messages\n",
    "alert_messages = [\n",
    "    'Port scan detected',\n",
    "    'Suspicious login attempt',\n",
    "    'Malware signature match',\n",
    "    'Unauthorized access to sensitive file',\n",
    "    'Outbound connection to blacklisted IP',\n",
    "    'Multiple failed login attempts',\n",
    "    'Unusual data transfer volume'\n",
    "]\n",
    "\n",
    "# Severity assignment\n",
    "def get_severity(msg):\n",
    "    if 'login' in msg or 'data' in msg:\n",
    "        return 'Medium'\n",
    "    elif 'Malware' in msg or 'blacklisted' in msg:\n",
    "        return 'High'\n",
    "    else:\n",
    "        return 'Low'\n"
   ]
  },
  {
   "cell_type": "code",
   "execution_count": 2,
   "id": "2f65fd1a",
   "metadata": {},
   "outputs": [
    {
     "name": "stdout",
     "output_type": "stream",
     "text": [
      "{'timestamp': '2025-07-03 17:20:16', 'source': 'IDS', 'message': 'Suspicious login attempt', 'severity': 'Medium'}\n",
      "{'timestamp': '2025-07-03 17:20:16', 'source': 'Firewall', 'message': 'Port scan detected', 'severity': 'Low'}\n",
      "{'timestamp': '2025-07-03 17:20:16', 'source': 'Antivirus', 'message': 'Outbound connection to blacklisted IP', 'severity': 'High'}\n",
      "{'timestamp': '2025-07-03 17:20:16', 'source': 'Firewall', 'message': 'Suspicious login attempt', 'severity': 'Medium'}\n",
      "{'timestamp': '2025-07-03 17:20:16', 'source': 'Antivirus', 'message': 'Malware signature match', 'severity': 'High'}\n",
      "{'timestamp': '2025-07-03 17:20:16', 'source': 'Firewall', 'message': 'Suspicious login attempt', 'severity': 'Medium'}\n",
      "{'timestamp': '2025-07-03 17:20:16', 'source': 'Antivirus', 'message': 'Unusual data transfer volume', 'severity': 'Medium'}\n",
      "{'timestamp': '2025-07-03 17:20:16', 'source': 'IDS', 'message': 'Multiple failed login attempts', 'severity': 'Medium'}\n",
      "{'timestamp': '2025-07-03 17:20:16', 'source': 'Firewall', 'message': 'Multiple failed login attempts', 'severity': 'Medium'}\n",
      "{'timestamp': '2025-07-03 17:20:16', 'source': 'IDS', 'message': 'Multiple failed login attempts', 'severity': 'Medium'}\n"
     ]
    }
   ],
   "source": [
    "def generate_alerts(n=10):\n",
    "    alerts = []\n",
    "    for _ in range(n):\n",
    "        source = random.choice(alert_sources)\n",
    "        message = random.choice(alert_messages)\n",
    "        severity = get_severity(message)\n",
    "        timestamp = datetime.datetime.now().strftime('%Y-%m-%d %H:%M:%S')\n",
    "        alerts.append({\n",
    "            'timestamp': timestamp,\n",
    "            'source': source,\n",
    "            'message': message,\n",
    "            'severity': severity\n",
    "        })\n",
    "    return alerts\n",
    "\n",
    "# Generate and display\n",
    "alerts = generate_alerts()\n",
    "for alert in alerts:\n",
    "    print(alert)\n"
   ]
  },
  {
   "cell_type": "code",
   "execution_count": 3,
   "id": "0b067001",
   "metadata": {},
   "outputs": [
    {
     "name": "stdout",
     "output_type": "stream",
     "text": [
      "\n",
      "🔔 New Alert from IDS at 2025-07-03 17:20:16\n",
      "Message: Suspicious login attempt\n",
      "Severity: Medium\n",
      "🔍 Action: Investigating the incident.\n",
      "\n",
      "\n",
      "🔔 New Alert from Firewall at 2025-07-03 17:20:16\n",
      "Message: Port scan detected\n",
      "Severity: Low\n",
      "📄 Action: Logged for future analysis.\n",
      "\n",
      "\n",
      "🔔 New Alert from Antivirus at 2025-07-03 17:20:16\n",
      "Message: Outbound connection to blacklisted IP\n",
      "Severity: High\n",
      "🚨 Action: Escalated to Tier 2 SOC Analyst!\n",
      "\n",
      "\n",
      "🔔 New Alert from Firewall at 2025-07-03 17:20:16\n",
      "Message: Suspicious login attempt\n",
      "Severity: Medium\n",
      "🔍 Action: Investigating the incident.\n",
      "\n",
      "\n",
      "🔔 New Alert from Antivirus at 2025-07-03 17:20:16\n",
      "Message: Malware signature match\n",
      "Severity: High\n",
      "🚨 Action: Escalated to Tier 2 SOC Analyst!\n",
      "\n",
      "\n",
      "🔔 New Alert from Firewall at 2025-07-03 17:20:16\n",
      "Message: Suspicious login attempt\n",
      "Severity: Medium\n",
      "🔍 Action: Investigating the incident.\n",
      "\n",
      "\n",
      "🔔 New Alert from Antivirus at 2025-07-03 17:20:16\n",
      "Message: Unusual data transfer volume\n",
      "Severity: Medium\n",
      "🔍 Action: Investigating the incident.\n",
      "\n",
      "\n",
      "🔔 New Alert from IDS at 2025-07-03 17:20:16\n",
      "Message: Multiple failed login attempts\n",
      "Severity: Medium\n",
      "🔍 Action: Investigating the incident.\n",
      "\n",
      "\n",
      "🔔 New Alert from Firewall at 2025-07-03 17:20:16\n",
      "Message: Multiple failed login attempts\n",
      "Severity: Medium\n",
      "🔍 Action: Investigating the incident.\n",
      "\n",
      "\n",
      "🔔 New Alert from IDS at 2025-07-03 17:20:16\n",
      "Message: Multiple failed login attempts\n",
      "Severity: Medium\n",
      "🔍 Action: Investigating the incident.\n",
      "\n"
     ]
    }
   ],
   "source": [
    "def handle_alert(alert):\n",
    "    print(f\"\\n🔔 New Alert from {alert['source']} at {alert['timestamp']}\")\n",
    "    print(f\"Message: {alert['message']}\")\n",
    "    print(f\"Severity: {alert['severity']}\")\n",
    "\n",
    "    if alert['severity'] == 'Low':\n",
    "        print(\"📄 Action: Logged for future analysis.\\n\")\n",
    "    elif alert['severity'] == 'Medium':\n",
    "        print(\"🔍 Action: Investigating the incident.\\n\")\n",
    "    elif alert['severity'] == 'High':\n",
    "        print(\"🚨 Action: Escalated to Tier 2 SOC Analyst!\\n\")\n",
    "\n",
    "# Simulate analyst reviewing all alerts\n",
    "for alert in alerts:\n",
    "    handle_alert(alert)\n"
   ]
  },
  {
   "cell_type": "code",
   "execution_count": 4,
   "id": "2fa88e98",
   "metadata": {},
   "outputs": [
    {
     "name": "stdout",
     "output_type": "stream",
     "text": [
      "✅ Alert log exported as 'soc_alert_log.csv'\n"
     ]
    }
   ],
   "source": [
    "import pandas as pd\n",
    "\n",
    "# Convert alerts to DataFrame\n",
    "df = pd.DataFrame(alerts)\n",
    "\n",
    "# Save to CSV\n",
    "df.to_csv('soc_alert_log.csv', index=False)\n",
    "print(\"✅ Alert log exported as 'soc_alert_log.csv'\")\n"
   ]
  },
  {
   "cell_type": "code",
   "execution_count": null,
   "id": "5268cb10",
   "metadata": {},
   "outputs": [],
   "source": []
  }
 ],
 "metadata": {
  "kernelspec": {
   "display_name": "Python 3 (ipykernel)",
   "language": "python",
   "name": "python3"
  },
  "language_info": {
   "codemirror_mode": {
    "name": "ipython",
    "version": 3
   },
   "file_extension": ".py",
   "mimetype": "text/x-python",
   "name": "python",
   "nbconvert_exporter": "python",
   "pygments_lexer": "ipython3",
   "version": "3.11.5"
  }
 },
 "nbformat": 4,
 "nbformat_minor": 5
}
